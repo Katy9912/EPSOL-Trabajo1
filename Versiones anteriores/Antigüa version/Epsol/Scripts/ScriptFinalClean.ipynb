{
 "cells": [
  {
   "cell_type": "code",
   "execution_count": null,
   "metadata": {},
   "outputs": [],
   "source": [
    "import csv\n",
    "import pandas as pd\n",
    "import os\n",
    "import tkinter as tk\n",
    "from tkinter import filedialog\n",
    "from datetime import datetime\n",
    "import numpy as np\n",
    "import matplotlib.pyplot as plt\n",
    "from functools import reduce\n",
    "from pandas.plotting import register_matplotlib_converters"
   ]
  },
  {
   "cell_type": "code",
   "execution_count": null,
   "metadata": {},
   "outputs": [],
   "source": [
    "def limpiar(path):\n",
    "    palabra = \"Record\"\n",
    "    with open(path, newline='') as File:\n",
    "        reader = csv.reader(File)\n",
    "        for index,row in enumerate(reader):\n",
    "            if (row[0]==palabra):\n",
    "                cut_index=index\n",
    "    data = pd.read_csv(path, skiprows=cut_index, delimiter = ', ', engine='python')\n",
    "    data.columns = data.columns.str.replace('\"', \"\")\n",
    "    data['Date'] = data['Date'].map(str)+ \".\" + data['Time'].map(str)\n",
    "    data['Date'] = pd.to_datetime(data['Date'], format = \"%m/%d/%Y.%H:%M:%S\")\n",
    "    data = data.rename(columns={'Date': 'Datetime'})\n",
    "    del data['Time']\n",
    "    del data['Status']\n",
    "    del data['Record']\n",
    "    return data.copy()\n"
   ]
  },
  {
   "cell_type": "code",
   "execution_count": null,
   "metadata": {},
   "outputs": [],
   "source": [
    "initial_dir = \"./\"\n",
    "filenames=filedialog.askopenfilenames(title=\"Selecciona los Archivos\",\n",
    "                                      initialdir=initial_dir,\n",
    "                                      filetypes=( (\"Archivo CSV\", \"*.csv\"),(\"Todos los archivos\", \"*.*\")))\n",
    "filedialog.mainloop()"
   ]
  },
  {
   "cell_type": "code",
   "execution_count": null,
   "metadata": {},
   "outputs": [],
   "source": [
    "LDPS = [None]*len(filenames)\n",
    "\n",
    "for num,file in enumerate(filenames):\n",
    "    LDPS[num]=(limpiar(file))\n",
    "\n"
   ]
  },
  {
   "cell_type": "code",
   "execution_count": null,
   "metadata": {},
   "outputs": [],
   "source": [
    "Merge = reduce(lambda left,right: pd.merge(left,right,on='Datetime', how='outer'), LDPS)\n",
    "\n",
    "Merge=Merge.sort_values(by=['Datetime'])\n",
    "Merge=Merge.reset_index(drop=True)\n"
   ]
  },
  {
   "cell_type": "code",
   "execution_count": null,
   "metadata": {},
   "outputs": [],
   "source": [
    "initial_dir = \"./\"\n",
    "\n",
    "export_file_path = filedialog.asksaveasfilename(title=\"Selecciona los Archivos\",\n",
    "                                      initialdir=initial_dir, defaultextension='.csv')\n",
    "Merge.to_csv (export_file_path, index = False, header=True)\n",
    "\n",
    "filedialog.mainloop()"
   ]
  }
 ],
 "metadata": {
  "kernelspec": {
   "display_name": "Python 3",
   "language": "python",
   "name": "python3"
  },
  "language_info": {
   "codemirror_mode": {
    "name": "ipython",
    "version": 3
   },
   "file_extension": ".py",
   "mimetype": "text/x-python",
   "name": "python",
   "nbconvert_exporter": "python",
   "pygments_lexer": "ipython3",
   "version": "3.8.3"
  }
 },
 "nbformat": 4,
 "nbformat_minor": 4
}
