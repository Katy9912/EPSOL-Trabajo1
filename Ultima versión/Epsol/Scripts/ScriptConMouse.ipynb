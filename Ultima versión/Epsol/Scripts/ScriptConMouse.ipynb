{
 "cells": [
  {
   "cell_type": "code",
   "execution_count": 2,
   "metadata": {},
   "outputs": [],
   "source": [
    "import csv\n",
    "import pandas as pd\n",
    "import os\n",
    "import tkinter as tk\n",
    "from tkinter import filedialog\n",
    "from datetime import datetime\n",
    "import numpy as np\n",
    "import matplotlib.pyplot as plt\n",
    "from functools import reduce\n",
    "from pandas.plotting import register_matplotlib_converters"
   ]
  },
  {
   "cell_type": "code",
   "execution_count": 11,
   "metadata": {},
   "outputs": [],
   "source": [
    "def limpiar(path):\n",
    "    palabra = \"Record\"\n",
    "    with open(path, newline='') as File:\n",
    "        reader = csv.reader(File)\n",
    "        for index,row in enumerate(reader):\n",
    "            if (row[0]==palabra):\n",
    "                cut_index=index\n",
    "    data = pd.read_csv(path, skiprows=cut_index, delimiter = ', ', engine='python')\n",
    "    data.columns = data.columns.str.replace('\"', \"\")\n",
    "    data['Date'] = data['Date'].map(str)+ \".\" + data['Time'].map(str)\n",
    "    data['Date'] = pd.to_datetime(data['Date'], format = \"%m/%d/%Y.%H:%M:%S\")\n",
    "    data = data.rename(columns={'Date': 'Datetime'})\n",
    "    del data['Time']\n",
    "    del data['Status']\n",
    "    del data['Record']\n",
    "    return data.copy()\n"
   ]
  },
  {
   "cell_type": "code",
   "execution_count": 4,
   "metadata": {},
   "outputs": [],
   "source": [
    "initial_dir = \"./\"\n",
    "filenames=tk.filedialog.askopenfilenames(title=\"Selecciona los Archivos\",\n",
    "                                      initialdir=initial_dir,\n",
    "                                      filetypes=( (\"Archivo CSV\", \"*.csv\"),(\"Todos los archivos\", \"*.*\")))\n",
    "filedialog.mainloop()"
   ]
  },
  {
   "cell_type": "code",
   "execution_count": 12,
   "metadata": {},
   "outputs": [],
   "source": [
    "LDPS = [None]*len(filenames)\n",
    "\n",
    "for num,file in enumerate(filenames):\n",
    "    LDPS[num]=(limpiar(file))\n",
    "\n"
   ]
  },
  {
   "cell_type": "code",
   "execution_count": 13,
   "metadata": {},
   "outputs": [],
   "source": [
    "Merge = reduce(lambda left,right: pd.merge(left,right,on='Datetime', how='outer'), LDPS)\n",
    "\n",
    "Merge=Merge.sort_values(by=['Datetime'])\n",
    "Merge=Merge.reset_index(drop=True)\n",
    "Merge = Merge.set_index('Datetime')\n"
   ]
  },
  {
   "cell_type": "code",
   "execution_count": 14,
   "metadata": {},
   "outputs": [
    {
     "data": {
      "text/html": [
       "<div>\n",
       "<style scoped>\n",
       "    .dataframe tbody tr th:only-of-type {\n",
       "        vertical-align: middle;\n",
       "    }\n",
       "\n",
       "    .dataframe tbody tr th {\n",
       "        vertical-align: top;\n",
       "    }\n",
       "\n",
       "    .dataframe thead th {\n",
       "        text-align: right;\n",
       "    }\n",
       "</style>\n",
       "<table border=\"1\" class=\"dataframe\">\n",
       "  <thead>\n",
       "    <tr style=\"text-align: right;\">\n",
       "      <th></th>\n",
       "      <th>PFT3</th>\n",
       "      <th>PFTA</th>\n",
       "      <th>PFTB</th>\n",
       "      <th>PFTC</th>\n",
       "      <th>LDPFT3</th>\n",
       "      <th>HRM3_IA</th>\n",
       "      <th>HRM5_IA</th>\n",
       "      <th>HRM7_IA</th>\n",
       "      <th>HRM9_IA</th>\n",
       "      <th>HRM11_IA</th>\n",
       "      <th>...</th>\n",
       "      <th>PST_10MIN_VB</th>\n",
       "      <th>PST_10MIN_VC</th>\n",
       "      <th>PLT_VA</th>\n",
       "      <th>PLT_VB</th>\n",
       "      <th>PLT_VC</th>\n",
       "      <th>3I0_ANG</th>\n",
       "      <th>IA</th>\n",
       "      <th>IB</th>\n",
       "      <th>IC</th>\n",
       "      <th>IN</th>\n",
       "    </tr>\n",
       "    <tr>\n",
       "      <th>Datetime</th>\n",
       "      <th></th>\n",
       "      <th></th>\n",
       "      <th></th>\n",
       "      <th></th>\n",
       "      <th></th>\n",
       "      <th></th>\n",
       "      <th></th>\n",
       "      <th></th>\n",
       "      <th></th>\n",
       "      <th></th>\n",
       "      <th></th>\n",
       "      <th></th>\n",
       "      <th></th>\n",
       "      <th></th>\n",
       "      <th></th>\n",
       "      <th></th>\n",
       "      <th></th>\n",
       "      <th></th>\n",
       "      <th></th>\n",
       "      <th></th>\n",
       "      <th></th>\n",
       "    </tr>\n",
       "  </thead>\n",
       "  <tbody>\n",
       "    <tr>\n",
       "      <th>2020-04-01 00:01:00</th>\n",
       "      <td>NaN</td>\n",
       "      <td>NaN</td>\n",
       "      <td>NaN</td>\n",
       "      <td>NaN</td>\n",
       "      <td>NaN</td>\n",
       "      <td>11.284163</td>\n",
       "      <td>3.757040</td>\n",
       "      <td>3.757040</td>\n",
       "      <td>11.284163</td>\n",
       "      <td>2.886310</td>\n",
       "      <td>...</td>\n",
       "      <td>NaN</td>\n",
       "      <td>NaN</td>\n",
       "      <td>NaN</td>\n",
       "      <td>NaN</td>\n",
       "      <td>NaN</td>\n",
       "      <td>NaN</td>\n",
       "      <td>NaN</td>\n",
       "      <td>NaN</td>\n",
       "      <td>NaN</td>\n",
       "      <td>NaN</td>\n",
       "    </tr>\n",
       "    <tr>\n",
       "      <th>2020-04-01 00:02:00</th>\n",
       "      <td>NaN</td>\n",
       "      <td>NaN</td>\n",
       "      <td>NaN</td>\n",
       "      <td>NaN</td>\n",
       "      <td>NaN</td>\n",
       "      <td>11.467537</td>\n",
       "      <td>3.816997</td>\n",
       "      <td>3.816997</td>\n",
       "      <td>11.467537</td>\n",
       "      <td>2.841115</td>\n",
       "      <td>...</td>\n",
       "      <td>NaN</td>\n",
       "      <td>NaN</td>\n",
       "      <td>NaN</td>\n",
       "      <td>NaN</td>\n",
       "      <td>NaN</td>\n",
       "      <td>NaN</td>\n",
       "      <td>NaN</td>\n",
       "      <td>NaN</td>\n",
       "      <td>NaN</td>\n",
       "      <td>NaN</td>\n",
       "    </tr>\n",
       "    <tr>\n",
       "      <th>2020-04-01 00:03:00</th>\n",
       "      <td>NaN</td>\n",
       "      <td>NaN</td>\n",
       "      <td>NaN</td>\n",
       "      <td>NaN</td>\n",
       "      <td>NaN</td>\n",
       "      <td>11.220573</td>\n",
       "      <td>3.738418</td>\n",
       "      <td>3.738418</td>\n",
       "      <td>11.220573</td>\n",
       "      <td>2.806660</td>\n",
       "      <td>...</td>\n",
       "      <td>NaN</td>\n",
       "      <td>NaN</td>\n",
       "      <td>NaN</td>\n",
       "      <td>NaN</td>\n",
       "      <td>NaN</td>\n",
       "      <td>NaN</td>\n",
       "      <td>NaN</td>\n",
       "      <td>NaN</td>\n",
       "      <td>NaN</td>\n",
       "      <td>NaN</td>\n",
       "    </tr>\n",
       "    <tr>\n",
       "      <th>2020-04-01 00:04:00</th>\n",
       "      <td>NaN</td>\n",
       "      <td>NaN</td>\n",
       "      <td>NaN</td>\n",
       "      <td>NaN</td>\n",
       "      <td>NaN</td>\n",
       "      <td>11.173465</td>\n",
       "      <td>3.723428</td>\n",
       "      <td>3.723428</td>\n",
       "      <td>11.173465</td>\n",
       "      <td>2.509311</td>\n",
       "      <td>...</td>\n",
       "      <td>NaN</td>\n",
       "      <td>NaN</td>\n",
       "      <td>NaN</td>\n",
       "      <td>NaN</td>\n",
       "      <td>NaN</td>\n",
       "      <td>NaN</td>\n",
       "      <td>NaN</td>\n",
       "      <td>NaN</td>\n",
       "      <td>NaN</td>\n",
       "      <td>NaN</td>\n",
       "    </tr>\n",
       "    <tr>\n",
       "      <th>2020-04-01 00:05:00</th>\n",
       "      <td>0.879453</td>\n",
       "      <td>0.879453</td>\n",
       "      <td>1.0</td>\n",
       "      <td>1.0</td>\n",
       "      <td>0.0</td>\n",
       "      <td>11.156334</td>\n",
       "      <td>3.717978</td>\n",
       "      <td>3.717978</td>\n",
       "      <td>11.156334</td>\n",
       "      <td>2.398645</td>\n",
       "      <td>...</td>\n",
       "      <td>NaN</td>\n",
       "      <td>NaN</td>\n",
       "      <td>NaN</td>\n",
       "      <td>NaN</td>\n",
       "      <td>NaN</td>\n",
       "      <td>NaN</td>\n",
       "      <td>NaN</td>\n",
       "      <td>NaN</td>\n",
       "      <td>NaN</td>\n",
       "      <td>NaN</td>\n",
       "    </tr>\n",
       "    <tr>\n",
       "      <th>...</th>\n",
       "      <td>...</td>\n",
       "      <td>...</td>\n",
       "      <td>...</td>\n",
       "      <td>...</td>\n",
       "      <td>...</td>\n",
       "      <td>...</td>\n",
       "      <td>...</td>\n",
       "      <td>...</td>\n",
       "      <td>...</td>\n",
       "      <td>...</td>\n",
       "      <td>...</td>\n",
       "      <td>...</td>\n",
       "      <td>...</td>\n",
       "      <td>...</td>\n",
       "      <td>...</td>\n",
       "      <td>...</td>\n",
       "      <td>...</td>\n",
       "      <td>...</td>\n",
       "      <td>...</td>\n",
       "      <td>...</td>\n",
       "      <td>...</td>\n",
       "    </tr>\n",
       "    <tr>\n",
       "      <th>2020-04-17 10:32:00</th>\n",
       "      <td>NaN</td>\n",
       "      <td>NaN</td>\n",
       "      <td>NaN</td>\n",
       "      <td>NaN</td>\n",
       "      <td>NaN</td>\n",
       "      <td>0.000000</td>\n",
       "      <td>0.000000</td>\n",
       "      <td>0.000000</td>\n",
       "      <td>0.000000</td>\n",
       "      <td>0.000000</td>\n",
       "      <td>...</td>\n",
       "      <td>NaN</td>\n",
       "      <td>NaN</td>\n",
       "      <td>NaN</td>\n",
       "      <td>NaN</td>\n",
       "      <td>NaN</td>\n",
       "      <td>NaN</td>\n",
       "      <td>0.0</td>\n",
       "      <td>0.0</td>\n",
       "      <td>0.0</td>\n",
       "      <td>0.0</td>\n",
       "    </tr>\n",
       "    <tr>\n",
       "      <th>2020-04-17 10:33:00</th>\n",
       "      <td>NaN</td>\n",
       "      <td>NaN</td>\n",
       "      <td>NaN</td>\n",
       "      <td>NaN</td>\n",
       "      <td>NaN</td>\n",
       "      <td>0.000000</td>\n",
       "      <td>0.000000</td>\n",
       "      <td>0.000000</td>\n",
       "      <td>0.000000</td>\n",
       "      <td>0.000000</td>\n",
       "      <td>...</td>\n",
       "      <td>NaN</td>\n",
       "      <td>NaN</td>\n",
       "      <td>NaN</td>\n",
       "      <td>NaN</td>\n",
       "      <td>NaN</td>\n",
       "      <td>NaN</td>\n",
       "      <td>0.0</td>\n",
       "      <td>0.0</td>\n",
       "      <td>0.0</td>\n",
       "      <td>0.0</td>\n",
       "    </tr>\n",
       "    <tr>\n",
       "      <th>2020-04-17 10:35:00</th>\n",
       "      <td>0.000000</td>\n",
       "      <td>0.000000</td>\n",
       "      <td>0.0</td>\n",
       "      <td>0.0</td>\n",
       "      <td>0.0</td>\n",
       "      <td>NaN</td>\n",
       "      <td>NaN</td>\n",
       "      <td>NaN</td>\n",
       "      <td>NaN</td>\n",
       "      <td>NaN</td>\n",
       "      <td>...</td>\n",
       "      <td>NaN</td>\n",
       "      <td>NaN</td>\n",
       "      <td>NaN</td>\n",
       "      <td>NaN</td>\n",
       "      <td>NaN</td>\n",
       "      <td>NaN</td>\n",
       "      <td>NaN</td>\n",
       "      <td>NaN</td>\n",
       "      <td>NaN</td>\n",
       "      <td>NaN</td>\n",
       "    </tr>\n",
       "    <tr>\n",
       "      <th>2020-04-17 10:40:00</th>\n",
       "      <td>NaN</td>\n",
       "      <td>NaN</td>\n",
       "      <td>NaN</td>\n",
       "      <td>NaN</td>\n",
       "      <td>NaN</td>\n",
       "      <td>NaN</td>\n",
       "      <td>NaN</td>\n",
       "      <td>NaN</td>\n",
       "      <td>NaN</td>\n",
       "      <td>NaN</td>\n",
       "      <td>...</td>\n",
       "      <td>0.0</td>\n",
       "      <td>0.0</td>\n",
       "      <td>NaN</td>\n",
       "      <td>NaN</td>\n",
       "      <td>NaN</td>\n",
       "      <td>0.0</td>\n",
       "      <td>NaN</td>\n",
       "      <td>NaN</td>\n",
       "      <td>NaN</td>\n",
       "      <td>NaN</td>\n",
       "    </tr>\n",
       "    <tr>\n",
       "      <th>2020-04-17 12:00:00</th>\n",
       "      <td>NaN</td>\n",
       "      <td>NaN</td>\n",
       "      <td>NaN</td>\n",
       "      <td>NaN</td>\n",
       "      <td>NaN</td>\n",
       "      <td>NaN</td>\n",
       "      <td>NaN</td>\n",
       "      <td>NaN</td>\n",
       "      <td>NaN</td>\n",
       "      <td>NaN</td>\n",
       "      <td>...</td>\n",
       "      <td>NaN</td>\n",
       "      <td>NaN</td>\n",
       "      <td>0.0</td>\n",
       "      <td>0.0</td>\n",
       "      <td>0.0</td>\n",
       "      <td>NaN</td>\n",
       "      <td>NaN</td>\n",
       "      <td>NaN</td>\n",
       "      <td>NaN</td>\n",
       "      <td>NaN</td>\n",
       "    </tr>\n",
       "  </tbody>\n",
       "</table>\n",
       "<p>1245 rows × 108 columns</p>\n",
       "</div>"
      ],
      "text/plain": [
       "                         PFT3      PFTA  PFTB  PFTC  LDPFT3    HRM3_IA  \\\n",
       "Datetime                                                                 \n",
       "2020-04-01 00:01:00       NaN       NaN   NaN   NaN     NaN  11.284163   \n",
       "2020-04-01 00:02:00       NaN       NaN   NaN   NaN     NaN  11.467537   \n",
       "2020-04-01 00:03:00       NaN       NaN   NaN   NaN     NaN  11.220573   \n",
       "2020-04-01 00:04:00       NaN       NaN   NaN   NaN     NaN  11.173465   \n",
       "2020-04-01 00:05:00  0.879453  0.879453   1.0   1.0     0.0  11.156334   \n",
       "...                       ...       ...   ...   ...     ...        ...   \n",
       "2020-04-17 10:32:00       NaN       NaN   NaN   NaN     NaN   0.000000   \n",
       "2020-04-17 10:33:00       NaN       NaN   NaN   NaN     NaN   0.000000   \n",
       "2020-04-17 10:35:00  0.000000  0.000000   0.0   0.0     0.0        NaN   \n",
       "2020-04-17 10:40:00       NaN       NaN   NaN   NaN     NaN        NaN   \n",
       "2020-04-17 12:00:00       NaN       NaN   NaN   NaN     NaN        NaN   \n",
       "\n",
       "                      HRM5_IA   HRM7_IA    HRM9_IA  HRM11_IA  ...  \\\n",
       "Datetime                                                      ...   \n",
       "2020-04-01 00:01:00  3.757040  3.757040  11.284163  2.886310  ...   \n",
       "2020-04-01 00:02:00  3.816997  3.816997  11.467537  2.841115  ...   \n",
       "2020-04-01 00:03:00  3.738418  3.738418  11.220573  2.806660  ...   \n",
       "2020-04-01 00:04:00  3.723428  3.723428  11.173465  2.509311  ...   \n",
       "2020-04-01 00:05:00  3.717978  3.717978  11.156334  2.398645  ...   \n",
       "...                       ...       ...        ...       ...  ...   \n",
       "2020-04-17 10:32:00  0.000000  0.000000   0.000000  0.000000  ...   \n",
       "2020-04-17 10:33:00  0.000000  0.000000   0.000000  0.000000  ...   \n",
       "2020-04-17 10:35:00       NaN       NaN        NaN       NaN  ...   \n",
       "2020-04-17 10:40:00       NaN       NaN        NaN       NaN  ...   \n",
       "2020-04-17 12:00:00       NaN       NaN        NaN       NaN  ...   \n",
       "\n",
       "                     PST_10MIN_VB  PST_10MIN_VC  PLT_VA  PLT_VB  PLT_VC  \\\n",
       "Datetime                                                                  \n",
       "2020-04-01 00:01:00           NaN           NaN     NaN     NaN     NaN   \n",
       "2020-04-01 00:02:00           NaN           NaN     NaN     NaN     NaN   \n",
       "2020-04-01 00:03:00           NaN           NaN     NaN     NaN     NaN   \n",
       "2020-04-01 00:04:00           NaN           NaN     NaN     NaN     NaN   \n",
       "2020-04-01 00:05:00           NaN           NaN     NaN     NaN     NaN   \n",
       "...                           ...           ...     ...     ...     ...   \n",
       "2020-04-17 10:32:00           NaN           NaN     NaN     NaN     NaN   \n",
       "2020-04-17 10:33:00           NaN           NaN     NaN     NaN     NaN   \n",
       "2020-04-17 10:35:00           NaN           NaN     NaN     NaN     NaN   \n",
       "2020-04-17 10:40:00           0.0           0.0     NaN     NaN     NaN   \n",
       "2020-04-17 12:00:00           NaN           NaN     0.0     0.0     0.0   \n",
       "\n",
       "                     3I0_ANG   IA   IB   IC   IN  \n",
       "Datetime                                          \n",
       "2020-04-01 00:01:00      NaN  NaN  NaN  NaN  NaN  \n",
       "2020-04-01 00:02:00      NaN  NaN  NaN  NaN  NaN  \n",
       "2020-04-01 00:03:00      NaN  NaN  NaN  NaN  NaN  \n",
       "2020-04-01 00:04:00      NaN  NaN  NaN  NaN  NaN  \n",
       "2020-04-01 00:05:00      NaN  NaN  NaN  NaN  NaN  \n",
       "...                      ...  ...  ...  ...  ...  \n",
       "2020-04-17 10:32:00      NaN  0.0  0.0  0.0  0.0  \n",
       "2020-04-17 10:33:00      NaN  0.0  0.0  0.0  0.0  \n",
       "2020-04-17 10:35:00      NaN  NaN  NaN  NaN  NaN  \n",
       "2020-04-17 10:40:00      0.0  NaN  NaN  NaN  NaN  \n",
       "2020-04-17 12:00:00      NaN  NaN  NaN  NaN  NaN  \n",
       "\n",
       "[1245 rows x 108 columns]"
      ]
     },
     "metadata": {},
     "output_type": "display_data"
    }
   ],
   "source": [
    "display(Merge)"
   ]
  },
  {
   "cell_type": "code",
   "execution_count": null,
   "metadata": {},
   "outputs": [],
   "source": []
  },
  {
   "cell_type": "code",
   "execution_count": null,
   "metadata": {},
   "outputs": [],
   "source": [
    "\n",
    "\n",
    "initial_dir = \"./\"\n",
    "\n",
    "export_file_path = filedialog.asksaveasfilename(title=\"Selecciona los Archivos\",\n",
    "                                      initialdir=initial_dir, defaultextension='.csv')\n",
    "Merge.to_csv (export_file_path, index = False, header=True)\n",
    "\n",
    "filedialog.mainloop()"
   ]
  },
  {
   "cell_type": "code",
   "execution_count": null,
   "metadata": {},
   "outputs": [],
   "source": [
    "Merge.dtypes"
   ]
  },
  {
   "cell_type": "code",
   "execution_count": null,
   "metadata": {},
   "outputs": [],
   "source": [
    "from bokeh.io import output_notebook, show\n",
    "output_notebook()"
   ]
  },
  {
   "cell_type": "code",
   "execution_count": null,
   "metadata": {},
   "outputs": [],
   "source": [
    "from bokeh.io import output_notebook, show\n",
    "output_notebook()\n",
    "import numpy as np \n",
    "from bokeh.io import output_notebook, show\n",
    "from bokeh.plotting import figure\n",
    "from bokeh.models import ColumnDataSource\n",
    "from bokeh.models import HoverTool"
   ]
  },
  {
   "cell_type": "code",
   "execution_count": null,
   "metadata": {},
   "outputs": [],
   "source": [
    "p = figure(plot_width=400, plot_height=400)\n",
    "p.hex([1, 2, 3, 4, 5], [6, 7, 2, 4, 5], size=12, line_color=\"navy\", fill_color=\"orange\", fill_alpha=0.5)\n",
    "show(p)"
   ]
  },
  {
   "cell_type": "code",
   "execution_count": null,
   "metadata": {},
   "outputs": [],
   "source": [
    "# create a new plot (with a title) using figure\n",
    "p = figure(plot_width=900, plot_height=400, title=\"My Line Plot\")\n",
    "\n",
    "# add a line renderer\n",
    "p.line([1, 2, 3, 4, 5], [6, 7, 2, 4, 5], line_width=2)\n",
    "\n",
    "show(p) # show the results"
   ]
  },
  {
   "cell_type": "code",
   "execution_count": null,
   "metadata": {},
   "outputs": [],
   "source": [
    "from bokeh.sampledata.glucose import data\n",
    "data.head()"
   ]
  },
  {
   "cell_type": "code",
   "execution_count": null,
   "metadata": {},
   "outputs": [],
   "source": [
    "data.dtypes"
   ]
  },
  {
   "cell_type": "code",
   "execution_count": null,
   "metadata": {},
   "outputs": [],
   "source": [
    "data.index"
   ]
  },
  {
   "cell_type": "code",
   "execution_count": null,
   "metadata": {},
   "outputs": [],
   "source": [
    "d=Merge.loc['2020-04-01':'2020-04-08']"
   ]
  },
  {
   "cell_type": "code",
   "execution_count": null,
   "metadata": {},
   "outputs": [],
   "source": [
    "title = d['PFT3'].name\n",
    "print(title)"
   ]
  },
  {
   "cell_type": "code",
   "execution_count": null,
   "metadata": {},
   "outputs": [],
   "source": [
    "filtere = d[d['PFT3'].notnull()].index.tolist()"
   ]
  },
  {
   "cell_type": "code",
   "execution_count": null,
   "metadata": {},
   "outputs": [],
   "source": [
    "d.head(1)"
   ]
  },
  {
   "cell_type": "code",
   "execution_count": null,
   "metadata": {},
   "outputs": [],
   "source": [
    "y=d.loc[filtere,title]"
   ]
  },
  {
   "cell_type": "code",
   "execution_count": null,
   "metadata": {},
   "outputs": [],
   "source": [
    "print(y)"
   ]
  },
  {
   "cell_type": "code",
   "execution_count": null,
   "metadata": {},
   "outputs": [],
   "source": []
  },
  {
   "cell_type": "code",
   "execution_count": null,
   "metadata": {},
   "outputs": [],
   "source": [
    "#d = Merge.loc['2020-04-01 00:00:00':'2020-04-02 00:00:00']\n",
    "d=Merge\n",
    "for x in list(d):\n",
    "    Variable = x\n",
    "    title = d[Variable].name\n",
    "    filtere = d[d[title].notnull()].index.tolist()\n",
    "    y=d.loc[filtere,title]\n",
    "\n",
    "\n",
    "    p = figure(x_axis_type=\"datetime\", title=title, plot_height=350, plot_width=800)\n",
    "    p.step(y.index, abs(y))\n",
    "    show(p)\n"
   ]
  },
  {
   "cell_type": "code",
   "execution_count": null,
   "metadata": {},
   "outputs": [],
   "source": [
    "d=Merge\n",
    "Variable = \"PFT3\"\n",
    "title = d[Variable].name\n",
    "filtere = d[d[title].notnull()].index.tolist()\n",
    "y=d.loc[filtere,title]\n",
    "\n",
    "\n",
    "p = figure(x_axis_type=\"datetime\", title=title, plot_height=350, plot_width=800)\n",
    "p.step(y.index, abs(y))\n",
    "show(p)"
   ]
  },
  {
   "cell_type": "code",
   "execution_count": null,
   "metadata": {},
   "outputs": [],
   "source": [
    "from bokeh.models import HoverTool\n",
    "from bokeh.models import HoverTool\n",
    "from bokeh.models import ColumnDataSource\n",
    "from bokeh.io import output_notebook, show\n",
    "from bokeh.plotting import figure"
   ]
  },
  {
   "cell_type": "code",
   "execution_count": null,
   "metadata": {},
   "outputs": [],
   "source": [
    "d = Merge.loc['2020-04-01 00:00:00':'2020-04-02 00:00:00']\n",
    "Variable = 'PFT3'\n",
    "title = d[Variable].name"
   ]
  },
  {
   "cell_type": "code",
   "execution_count": null,
   "metadata": {},
   "outputs": [],
   "source": [
    "filtere = d[d[title].notnull()].index.tolist()"
   ]
  },
  {
   "cell_type": "code",
   "execution_count": null,
   "metadata": {},
   "outputs": [],
   "source": [
    "\n",
    "z=d[[title]]\n",
    "z=z.dropna()\n",
    "display(z)"
   ]
  },
  {
   "cell_type": "code",
   "execution_count": null,
   "metadata": {},
   "outputs": [],
   "source": [
    "import pandas as pd\n",
    "\n",
    "# use bp as bokeh plot\n",
    "from bokeh.plotting import figure, output_file, show\n",
    "from bokeh.models import Range1d, HoverTool, ColumnDataSource\n",
    "\n",
    "\n",
    "# get the datetime library for date & time calcs\n",
    "from datetime import datetime, timedelta"
   ]
  },
  {
   "cell_type": "code",
   "execution_count": null,
   "metadata": {},
   "outputs": [],
   "source": [
    "z['Date']=pd.to_datetime(z.index)\n",
    "display(z)\n",
    "print(z.dtypes)"
   ]
  },
  {
   "cell_type": "code",
   "execution_count": null,
   "metadata": {},
   "outputs": [],
   "source": [
    "z['DateString'] = z[\"Date\"].dt.strftime(\"%Y-%m-%d %H:%M:%S\")\n",
    "display(z)\n",
    "print(z.dtypes)"
   ]
  },
  {
   "cell_type": "code",
   "execution_count": null,
   "metadata": {},
   "outputs": [],
   "source": [
    "cds = ColumnDataSource(z)\n",
    "print(cds)"
   ]
  },
  {
   "cell_type": "code",
   "execution_count": null,
   "metadata": {},
   "outputs": [],
   "source": []
  },
  {
   "cell_type": "code",
   "execution_count": null,
   "metadata": {},
   "outputs": [],
   "source": [
    "title = d[Variable].name"
   ]
  },
  {
   "cell_type": "code",
   "execution_count": null,
   "metadata": {},
   "outputs": [],
   "source": [
    "bp = figure(width=500, height=250, x_axis_type=\"datetime\", sizing_mode=\"scale_width\")"
   ]
  },
  {
   "cell_type": "code",
   "execution_count": null,
   "metadata": {},
   "outputs": [],
   "source": [
    "bp = figure(width=500, height=250, x_axis_type=\"datetime\", sizing_mode=\"scale_width\")\n",
    "hover = HoverTool(tooltips = [(\"Date\",\"@DateString\"),(title, \"@PFT3\")])\n",
    "bp.add_tools(hover)\n",
    "\n",
    "bp.line(\"Date\", title, color = \"Red\", source = cds)\n",
    "\n",
    "show(bp)"
   ]
  },
  {
   "cell_type": "code",
   "execution_count": null,
   "metadata": {},
   "outputs": [],
   "source": [
    "bp = figure(width=500, height=250, x_axis_type=\"datetime\", sizing_mode=\"scale_width\")\n",
    "hover = HoverTool(tooltips = [(\"Date\",\"@DateString\"),(title, atitle)])\n",
    "bp.add_tools(hover)\n",
    "atitle = '@' + title + ''\n",
    "bp.circle(x='Date', y = title, source = cds, fill_alpha = 0.0, line_alpha = 1.0, size= 10)\n",
    "#bp.step(x='Date', y = title, source = cds, mode = \"before\",line_color =\"#2EFEF7\" )\n",
    "#bp.step(x='Date', y = title, source = cds, mode = \"center\",line_color =\"#00FF00\")\n",
    "bp.step(x='Date', y = title, source = cds, mode = \"after\",line_color =\"#FE2E2E\")\n",
    "\n",
    "\n",
    "show(bp)"
   ]
  },
  {
   "cell_type": "code",
   "execution_count": null,
   "metadata": {},
   "outputs": [],
   "source": [
    "atitle = '@' + title + ''\n",
    "print(atitle)"
   ]
  },
  {
   "cell_type": "code",
   "execution_count": null,
   "metadata": {},
   "outputs": [],
   "source": []
  },
  {
   "cell_type": "code",
   "execution_count": null,
   "metadata": {},
   "outputs": [],
   "source": []
  },
  {
   "cell_type": "code",
   "execution_count": null,
   "metadata": {},
   "outputs": [],
   "source": [
    "d=Merge\n",
    "for x in list(d):\n",
    "    Variable = x\n",
    "    title = d[Variable].name\n",
    "    filtere = d[d[title].notnull()].index.tolist()\n",
    "    y=d.loc[filtere,title]\n",
    "\n",
    "\n",
    "    p = figure(x_axis_type=\"datetime\", title=title, plot_height=350, plot_width=800)\n",
    "    p.step(y.index, abs(y))\n",
    "    show(p)"
   ]
  },
  {
   "cell_type": "code",
   "execution_count": null,
   "metadata": {},
   "outputs": [],
   "source": []
  },
  {
   "cell_type": "code",
   "execution_count": null,
   "metadata": {},
   "outputs": [],
   "source": [
    "from bokeh.io import output_notebook, show\n",
    "\n",
    "import numpy as np \n",
    "\n",
    "\n",
    "from bokeh.models import HoverTool\n",
    "\n",
    "from bokeh.models import ColumnDataSource\n",
    "\n",
    "from bokeh.plotting import figure\n",
    "output_notebook()"
   ]
  },
  {
   "cell_type": "code",
   "execution_count": null,
   "metadata": {
    "scrolled": false
   },
   "outputs": [],
   "source": [
    "d = Merge.loc['2020-04-01 00:00:00':'2020-04-02 00:00:00']\n",
    "\n",
    "for x in list(d):\n",
    "    Variable = x\n",
    "    title = d[Variable].name\n",
    "    z=d[[title]]\n",
    "    z=z.dropna()\n",
    "    z['Date']=pd.to_datetime(z.index)\n",
    "    z['DateString'] = z[\"Date\"].dt.strftime(\"%Y-%m-%d %H:%M:%S\")\n",
    "    \n",
    "    cds = ColumnDataSource(z)\n",
    "    atitle = '@' + title + ''\n",
    "    bp = figure(width=500, height=250, x_axis_type=\"datetime\", sizing_mode=\"scale_width\", title = title)\n",
    "    hover = HoverTool(tooltips = [(\"Date\",\"@DateString\"),(title, atitle)])\n",
    "    bp.add_tools(hover)\n",
    "   \n",
    "    bp.circle(x='Date', y = title, source = cds, fill_alpha = 0.0, line_alpha = 1.0, size= 10)\n",
    "    bp.step(x='Date', y = title, source = cds, mode = \"after\",line_color =\"#FE2E2E\")\n",
    "\n",
    "\n",
    "    show(bp)"
   ]
  },
  {
   "cell_type": "code",
   "execution_count": null,
   "metadata": {},
   "outputs": [],
   "source": [
    "\n",
    "from bokeh.models import BoxAnnotation, Toggle\n",
    "d = Merge.loc['2020-04-01 00:00:00':'2020-04-020 00:00:00']\n",
    "Variable = \"PFT3\"\n",
    "title = d[Variable].name\n",
    "z=d[[title]]\n",
    "z=z.dropna()\n",
    "z['Date']=pd.to_datetime(z.index)\n",
    "z['DateString'] = z[\"Date\"].dt.strftime(\"%Y-%m-%d %H:%M:%S\")\n",
    "    \n",
    "cds = ColumnDataSource(z)\n",
    "atitle = '@' + title + ''\n",
    "bp = figure(width=500, height=250, x_axis_type=\"datetime\", sizing_mode=\"scale_width\", title = title)\n",
    "hover = HoverTool(tooltips = [(\"Date\",\"@DateString\"),(title, atitle)], mode='vline')\n",
    "bp.add_tools(hover)\n",
    "'''bp.background_fill_color=\"#f5f5f5\"\n",
    "bp.grid.grid_line_color=\"white\"\n",
    "bp.xaxis.axis_label = 'Date'\n",
    "bp.yaxis.axis_label = title\n",
    "bp.axis.axis_line_color = None\n",
    "bp.ygrid.band_fill_color = \"olive\"\n",
    "bp.ygrid.band_fill_alpha = 0.1'''\n",
    "green_box = BoxAnnotation(top=1, bottom=0.95, fill_color='blue', fill_alpha=0.1)\n",
    "bp.add_layout(green_box)\n",
    "bp.circle(x='Date', y = title, source = cds, fill_alpha = 0.0, line_alpha = 0.0, size= 5)\n",
    "bp.step(x='Date', y = title, source = cds, mode = \"after\",line_color =\"#FE2E2E\")\n",
    "\n",
    "\n",
    "show(bp,mode='inline')"
   ]
  },
  {
   "cell_type": "code",
   "execution_count": null,
   "metadata": {},
   "outputs": [],
   "source": [
    "bokeh.info()"
   ]
  },
  {
   "cell_type": "code",
   "execution_count": null,
   "metadata": {},
   "outputs": [],
   "source": []
  },
  {
   "cell_type": "code",
   "execution_count": null,
   "metadata": {},
   "outputs": [],
   "source": []
  },
  {
   "cell_type": "code",
   "execution_count": null,
   "metadata": {},
   "outputs": [],
   "source": []
  },
  {
   "cell_type": "code",
   "execution_count": null,
   "metadata": {},
   "outputs": [],
   "source": []
  },
  {
   "cell_type": "code",
   "execution_count": null,
   "metadata": {},
   "outputs": [],
   "source": [
    "source = ColumnDataSource(z)"
   ]
  },
  {
   "cell_type": "code",
   "execution_count": null,
   "metadata": {},
   "outputs": [],
   "source": [
    "z.index = z.index.map(lambda x: x.strftime(\"%b %d\"))"
   ]
  },
  {
   "cell_type": "code",
   "execution_count": null,
   "metadata": {},
   "outputs": [],
   "source": [
    "import pandas as pd\n",
    "import bokeh.plotting as bp\n",
    "from bokeh.models import HoverTool, DatetimeTickFormatter"
   ]
  },
  {
   "cell_type": "code",
   "execution_count": null,
   "metadata": {},
   "outputs": [],
   "source": [
    "mySource = bp.ColumnDataSource(z)"
   ]
  },
  {
   "cell_type": "code",
   "execution_count": null,
   "metadata": {},
   "outputs": [],
   "source": [
    "myPlot = bp.figure(height = 600,\n",
    "               width = 800,\n",
    "               x_axis_type = 'datetime',\n",
    "               title = 'ColumnDataSource')\n"
   ]
  },
  {
   "cell_type": "code",
   "execution_count": null,
   "metadata": {},
   "outputs": [],
   "source": []
  },
  {
   "cell_type": "code",
   "execution_count": null,
   "metadata": {},
   "outputs": [],
   "source": []
  },
  {
   "cell_type": "code",
   "execution_count": null,
   "metadata": {},
   "outputs": [],
   "source": []
  },
  {
   "cell_type": "code",
   "execution_count": null,
   "metadata": {},
   "outputs": [],
   "source": []
  },
  {
   "cell_type": "code",
   "execution_count": null,
   "metadata": {},
   "outputs": [],
   "source": []
  },
  {
   "cell_type": "code",
   "execution_count": null,
   "metadata": {},
   "outputs": [],
   "source": []
  },
  {
   "cell_type": "code",
   "execution_count": null,
   "metadata": {},
   "outputs": [],
   "source": []
  },
  {
   "cell_type": "code",
   "execution_count": null,
   "metadata": {},
   "outputs": [],
   "source": []
  },
  {
   "cell_type": "code",
   "execution_count": null,
   "metadata": {},
   "outputs": [],
   "source": []
  },
  {
   "cell_type": "code",
   "execution_count": null,
   "metadata": {},
   "outputs": [],
   "source": []
  },
  {
   "cell_type": "code",
   "execution_count": null,
   "metadata": {},
   "outputs": [],
   "source": []
  },
  {
   "cell_type": "code",
   "execution_count": null,
   "metadata": {},
   "outputs": [],
   "source": []
  },
  {
   "cell_type": "code",
   "execution_count": null,
   "metadata": {},
   "outputs": [],
   "source": []
  },
  {
   "cell_type": "code",
   "execution_count": null,
   "metadata": {},
   "outputs": [],
   "source": []
  },
  {
   "cell_type": "code",
   "execution_count": null,
   "metadata": {},
   "outputs": [],
   "source": []
  },
  {
   "cell_type": "code",
   "execution_count": null,
   "metadata": {},
   "outputs": [],
   "source": []
  },
  {
   "cell_type": "code",
   "execution_count": null,
   "metadata": {},
   "outputs": [],
   "source": []
  },
  {
   "cell_type": "code",
   "execution_count": null,
   "metadata": {},
   "outputs": [],
   "source": []
  },
  {
   "cell_type": "code",
   "execution_count": null,
   "metadata": {},
   "outputs": [],
   "source": []
  },
  {
   "cell_type": "code",
   "execution_count": null,
   "metadata": {},
   "outputs": [],
   "source": []
  },
  {
   "cell_type": "code",
   "execution_count": null,
   "metadata": {},
   "outputs": [],
   "source": []
  },
  {
   "cell_type": "code",
   "execution_count": null,
   "metadata": {},
   "outputs": [],
   "source": []
  },
  {
   "cell_type": "code",
   "execution_count": null,
   "metadata": {},
   "outputs": [],
   "source": []
  },
  {
   "cell_type": "code",
   "execution_count": null,
   "metadata": {},
   "outputs": [],
   "source": []
  },
  {
   "cell_type": "code",
   "execution_count": null,
   "metadata": {},
   "outputs": [],
   "source": []
  },
  {
   "cell_type": "code",
   "execution_count": null,
   "metadata": {},
   "outputs": [],
   "source": []
  },
  {
   "cell_type": "code",
   "execution_count": null,
   "metadata": {},
   "outputs": [],
   "source": []
  },
  {
   "cell_type": "code",
   "execution_count": null,
   "metadata": {},
   "outputs": [],
   "source": []
  },
  {
   "cell_type": "code",
   "execution_count": null,
   "metadata": {},
   "outputs": [],
   "source": []
  },
  {
   "cell_type": "code",
   "execution_count": null,
   "metadata": {},
   "outputs": [],
   "source": []
  },
  {
   "cell_type": "code",
   "execution_count": null,
   "metadata": {},
   "outputs": [],
   "source": []
  },
  {
   "cell_type": "code",
   "execution_count": null,
   "metadata": {},
   "outputs": [],
   "source": []
  },
  {
   "cell_type": "code",
   "execution_count": null,
   "metadata": {},
   "outputs": [],
   "source": []
  },
  {
   "cell_type": "code",
   "execution_count": null,
   "metadata": {},
   "outputs": [],
   "source": []
  },
  {
   "cell_type": "code",
   "execution_count": null,
   "metadata": {},
   "outputs": [],
   "source": []
  },
  {
   "cell_type": "code",
   "execution_count": null,
   "metadata": {},
   "outputs": [],
   "source": [
    "import pandas as pd\n",
    "import bokeh.plotting as bp\n",
    "from bokeh.models import HoverTool, DatetimeTickFormatter\n",
    "output_notebook()\n",
    "# Create the base data\n",
    "data_dict = {\"Dates\":[\"2017-03-01\",\n",
    "                  \"2017-03-02\",\n",
    "                  \"2017-03-03\",\n",
    "                  \"2017-03-04\",\n",
    "                  \"2017-03-05\",\n",
    "                  \"2017-03-06\"],\n",
    "             \"Prices\":[1, 2, 1, 2, 1, 2]}\n",
    "\n",
    "# Turn it into a dataframe\n",
    "data = pd.DataFrame(data_dict, columns = ['Dates', 'Prices'])\n",
    "\n",
    "# Convert the date column to the dateformat, and create a ToolTipDates column\n",
    "data['Dates'] = pd.to_datetime(data['Dates'])\n",
    "data['ToolTipDates'] = data.Dates.map(lambda x: x.strftime(\"%b %d\")) # Saves work with the tooltip later\n",
    "\n",
    "# Create a ColumnDataSource object\n",
    "mySource = bp.ColumnDataSource(data)\n",
    "\n",
    "# Create your plot as a bokeh.figure object\n",
    "myPlot = bp.figure(height = 600,\n",
    "               width = 800,\n",
    "               x_axis_type = 'datetime',\n",
    "               title = 'ColumnDataSource',\n",
    "               y_range=(0,3))\n",
    "\n",
    "# Format your x-axis as datetime.\n",
    "myPlot.xaxis[0].formatter = DatetimeTickFormatter(days='%b %d')\n",
    "\n",
    "# Draw the plot on your plot object, identifying the source as your Column Data Source object.\n",
    "myPlot.circle(\"Dates\",\n",
    "          \"Prices\",\n",
    "          source=mySource,\n",
    "          color='red',\n",
    "          size = 25)\n",
    "\n",
    "# Add your tooltips\n",
    "myPlot.add_tools( HoverTool(tooltips= [(\"Dates\",\"@ToolTipDates\"),\n",
    "                                    (\"Prices\",\"@Prices\")]))\n",
    "\n",
    "\n",
    "# Create an output file\n",
    "\n",
    "bp.show(myPlot) # et voilà."
   ]
  },
  {
   "cell_type": "code",
   "execution_count": null,
   "metadata": {},
   "outputs": [],
   "source": []
  },
  {
   "cell_type": "code",
   "execution_count": null,
   "metadata": {},
   "outputs": [],
   "source": []
  },
  {
   "cell_type": "code",
   "execution_count": null,
   "metadata": {},
   "outputs": [],
   "source": [
    "filtere = Merge[Merge['PFT3'].notnull()].index.tolist()"
   ]
  },
  {
   "cell_type": "code",
   "execution_count": null,
   "metadata": {},
   "outputs": [],
   "source": [
    "from bokeh.layouts import gridplot\n",
    "from bokeh.models import CDSView, ColumnDataSource, IndexFilter\n",
    "from bokeh.plotting import figure, show\n"
   ]
  },
  {
   "cell_type": "code",
   "execution_count": null,
   "metadata": {},
   "outputs": [],
   "source": [
    "from bokeh.layouts import gridplot\n",
    "from bokeh.models import CDSView, ColumnDataSource, IndexFilter\n",
    "from bokeh.plotting import figure, show\n",
    "\n",
    "source = ColumnDataSource(data=dict(x=[1, 2, 3, 4, 5], y=[1, 2, 3, 4, 5]))\n",
    "view = CDSView(source=source, filters=[IndexFilter([0, 2, 4])])\n",
    "\n",
    "tools = [\"box_select\", \"hover\", \"reset\"]\n",
    "p = figure(plot_height=300, plot_width=300, tools=tools)\n",
    "p.circle(x=\"x\", y=\"y\", size=10, hover_color=\"red\", source=source)\n",
    "\n",
    "p_filtered = figure(plot_height=300, plot_width=300, tools=tools)\n",
    "p_filtered.circle(x=\"x\", y=\"y\", size=10, hover_color=\"red\", source=source, view=view)\n",
    "\n",
    "show(gridplot([[p, p_filtered]]))"
   ]
  },
  {
   "cell_type": "code",
   "execution_count": null,
   "metadata": {},
   "outputs": [],
   "source": []
  },
  {
   "cell_type": "code",
   "execution_count": null,
   "metadata": {},
   "outputs": [],
   "source": [
    "import numpy as np\n",
    "\n",
    "from bokeh.io import output_notebook, show\n",
    "output_notebook()\n",
    "from bokeh.models import ColumnDataSource, HoverTool\n",
    "from bokeh.plotting import figure\n",
    "from bokeh.sampledata.stocks import AAPL\n",
    "\n",
    "\n",
    "\n",
    "def datetime(x):\n",
    "    return np.array(x, dtype=np.datetime64)\n",
    "\n",
    "source = ColumnDataSource(data={\n",
    "    'date'      : datetime(AAPL['date'][::10]),\n",
    "    'adj close' : AAPL['adj_close'][::10],\n",
    "    'volume'    : AAPL['volume'][::10],})\n",
    "\n",
    "p = figure(plot_height=250, x_axis_type=\"datetime\", tools=\"\",title=\"Hover Tooltip Formatting\",\n",
    "           sizing_mode=\"scale_width\")\n",
    "\n",
    "p.background_fill_color=\"#f5f5f5\"\n",
    "p.grid.grid_line_color=\"white\"\n",
    "p.xaxis.axis_label = 'Date'\n",
    "p.yaxis.axis_label = 'Price'\n",
    "p.axis.axis_line_color = None\n",
    "\n",
    "p.line(x='date', y='adj close', line_width=2, color='#ebbd5b', source=source)\n",
    "\n",
    "p.add_tools(HoverTool(\n",
    "    tooltips=[\n",
    "        ( 'date',   '@date{%F}'            ),\n",
    "        ( 'close',  '$@{adj close}{%0.2f}' ), # use @{ } for field names with spaces\n",
    "        ( 'volume', '@volume{0.00 a}'      ),\n",
    "    ],\n",
    "\n",
    "    formatters={\n",
    "        'date'      : 'datetime', # use 'datetime' formatter for 'date' field\n",
    "        'adj close' : 'printf',   # use 'printf' formatter for 'adj close' field\n",
    "                                  # use default 'numeral' formatter for other fields\n",
    "    },\n",
    "\n",
    "    # display a tooltip whenever the cursor is vertically in line with a glyph\n",
    "    mode='vline'\n",
    "))\n",
    "\n",
    "show(p)"
   ]
  },
  {
   "cell_type": "code",
   "execution_count": null,
   "metadata": {},
   "outputs": [],
   "source": []
  },
  {
   "cell_type": "code",
   "execution_count": null,
   "metadata": {},
   "outputs": [],
   "source": []
  },
  {
   "cell_type": "code",
   "execution_count": null,
   "metadata": {},
   "outputs": [],
   "source": []
  },
  {
   "cell_type": "code",
   "execution_count": null,
   "metadata": {},
   "outputs": [],
   "source": []
  },
  {
   "cell_type": "code",
   "execution_count": null,
   "metadata": {},
   "outputs": [],
   "source": []
  },
  {
   "cell_type": "code",
   "execution_count": null,
   "metadata": {},
   "outputs": [],
   "source": []
  },
  {
   "cell_type": "code",
   "execution_count": null,
   "metadata": {},
   "outputs": [],
   "source": []
  },
  {
   "cell_type": "code",
   "execution_count": null,
   "metadata": {},
   "outputs": [],
   "source": []
  },
  {
   "cell_type": "code",
   "execution_count": null,
   "metadata": {},
   "outputs": [],
   "source": []
  },
  {
   "cell_type": "code",
   "execution_count": null,
   "metadata": {},
   "outputs": [],
   "source": []
  },
  {
   "cell_type": "code",
   "execution_count": null,
   "metadata": {},
   "outputs": [],
   "source": []
  },
  {
   "cell_type": "code",
   "execution_count": null,
   "metadata": {},
   "outputs": [],
   "source": []
  },
  {
   "cell_type": "code",
   "execution_count": null,
   "metadata": {},
   "outputs": [],
   "source": []
  },
  {
   "cell_type": "code",
   "execution_count": null,
   "metadata": {},
   "outputs": [],
   "source": []
  },
  {
   "cell_type": "code",
   "execution_count": null,
   "metadata": {},
   "outputs": [],
   "source": []
  },
  {
   "cell_type": "code",
   "execution_count": null,
   "metadata": {},
   "outputs": [],
   "source": [
    "from bokeh.io import show\n",
    "from bokeh.models import ColumnDataSource\n",
    "from bokeh.plotting import figure\n",
    "import pandas as pd\n",
    "\n",
    "df = pd.DataFrame({'x': [1, 2, 3], 'A_y' : [1, 5, 3], 'A': [0.2, 0.1, 0.2],\n",
    "                  'B_y' : [2, 4, 3], 'B':[0.1, 0.3, 0.2]})\n",
    "source = ColumnDataSource(df)\n",
    "tools_to_show = 'box_zoom,save,hover,reset'\n",
    "p = figure(plot_height =300, plot_width = 700,toolbar_location='above', tools=tools_to_show,\n",
    "\n",
    "# \"easy\" tooltips in Bokeh 0.13.0 or newer\n",
    "tooltips=[(\"Hey\",\"$name\"), (\"Aux\", \"@$name\")])\n",
    "\n",
    "columns = ['A', 'B']\n",
    "\n",
    "for col in columns:\n",
    "\n",
    "    # have to use different colnames for y-coords so tooltip can refer to @$name\n",
    "    p.line('x', col + \"_y\", source=source, name=col)\n",
    "\n",
    "show(p)"
   ]
  },
  {
   "cell_type": "code",
   "execution_count": null,
   "metadata": {},
   "outputs": [],
   "source": []
  },
  {
   "cell_type": "code",
   "execution_count": null,
   "metadata": {},
   "outputs": [],
   "source": []
  },
  {
   "cell_type": "code",
   "execution_count": null,
   "metadata": {},
   "outputs": [],
   "source": []
  },
  {
   "cell_type": "code",
   "execution_count": null,
   "metadata": {},
   "outputs": [],
   "source": []
  },
  {
   "cell_type": "code",
   "execution_count": null,
   "metadata": {},
   "outputs": [],
   "source": []
  },
  {
   "cell_type": "code",
   "execution_count": null,
   "metadata": {},
   "outputs": [],
   "source": []
  },
  {
   "cell_type": "code",
   "execution_count": null,
   "metadata": {},
   "outputs": [],
   "source": []
  },
  {
   "cell_type": "code",
   "execution_count": null,
   "metadata": {},
   "outputs": [],
   "source": []
  },
  {
   "cell_type": "code",
   "execution_count": null,
   "metadata": {},
   "outputs": [],
   "source": []
  },
  {
   "cell_type": "code",
   "execution_count": null,
   "metadata": {},
   "outputs": [],
   "source": []
  },
  {
   "cell_type": "code",
   "execution_count": null,
   "metadata": {},
   "outputs": [],
   "source": []
  }
 ],
 "metadata": {
  "kernelspec": {
   "display_name": "Python 3",
   "language": "python",
   "name": "python3"
  },
  "language_info": {
   "codemirror_mode": {
    "name": "ipython",
    "version": 3
   },
   "file_extension": ".py",
   "mimetype": "text/x-python",
   "name": "python",
   "nbconvert_exporter": "python",
   "pygments_lexer": "ipython3",
   "version": "3.8.3"
  }
 },
 "nbformat": 4,
 "nbformat_minor": 4
}
